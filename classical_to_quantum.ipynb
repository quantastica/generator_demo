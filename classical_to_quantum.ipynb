{
 "cells": [
  {
   "cell_type": "markdown",
   "id": "0272510b",
   "metadata": {},
   "source": [
    "# Convert classical function to quantum circuit\n",
    "\n",
    "This is just a toy, but is so cool :)\n",
    "    \n",
    "First, we take any classical function as argument to `from_classical()` method:\n",
    "    \n",
    "- Function graph is built by running it with range of inputs\n",
    "- Function graph is converted to statevector (normalized and interpolated to 2**N elements)\n",
    "- Then we use generator to find circuit which prepares that statevector\n",
    "\n",
    "Now, when we have circuit, we can produce (near) the same output as classical function with `run()` method:\n",
    "\n",
    "- executes circuit in many shots and builds histogram of probabilities\n",
    "- probabilities are converted back to function graph (interpolate and normalize)\n",
    "- input argument is normalized and correct point from the reconstructed function graph is returned\n",
    "\n",
    "Here is the code:"
   ]
  },
  {
   "cell_type": "code",
   "execution_count": 2,
   "id": "3605abe4",
   "metadata": {},
   "outputs": [],
   "source": [
    "from inspect import signature\n",
    "import numpy as np\n",
    "\n",
    "from quantastica.qps_api import QPS\n",
    "\n",
    "from qiskit import QuantumCircuit, execute, Aer\n",
    "from scipy import interpolate\n",
    "import matplotlib.pyplot as plt\n",
    "from IPython.display import SVG\n",
    "\n",
    "def pd_to_sv(pd, num_qubits):\n",
    "    len_sv = 2**num_qubits\n",
    "\n",
    "    # get rid of negative values\n",
    "    min_val = np.min(pd)\n",
    "    max_val = np.max(pd)\n",
    "\n",
    "    if(min_val < 0):\n",
    "        pd = [i + np.abs(min_val) for i in pd]\n",
    "    \n",
    "    # normalize sum to 1\n",
    "    pd = pd / np.sum(pd)\n",
    "    \n",
    "    # Make statevector\n",
    "    pd = np.sqrt(pd).tolist()\n",
    "    \n",
    "    # convert to complex\n",
    "    sv = [complex(i) for i in pd]\n",
    "\n",
    "    return sv\n",
    "\n",
    "\n",
    "def sv_to_pd(sv, pd_min, pd_max):\n",
    "    pd = np.abs(sv)**2\n",
    "    \n",
    "    min_val = np.min(pd)\n",
    "    max_val = np.max(pd)\n",
    "    \n",
    "    pd = [ (pd_max - pd_min) * ((a - min_val) / (max_val - min_val)) + pd_min for a in pd ]\n",
    "    \n",
    "    return pd\n",
    "\n",
    "\n",
    "def get_zero_state(num_qubits):\n",
    "    zero_state = np.zeros(2**num_qubits, dtype=complex)\n",
    "    zero_state[0] = 1+0j\n",
    "    return zero_state\n",
    "\n",
    "\n",
    "class QuantumFunction:\n",
    "\n",
    "    def __init__(self):\n",
    "        self.reset()\n",
    "\n",
    "\n",
    "    def reset(self):\n",
    "        self.input_min = 0\n",
    "        self.input_max = 1\n",
    "        self.num_qubits = 3\n",
    "        self.func = None\n",
    "        self.qasm = \"\"\n",
    "        self.use_statevector=True\n",
    "        self.num_shots = 4096\n",
    "\n",
    "\n",
    "    def from_classical(self, func, options={}):\n",
    "        self.reset()\n",
    "\n",
    "        sig = signature(func)\n",
    "        if len(list(sig.parameters)) != 1:\n",
    "            raise Exception(\"Only classical functions with single argument are supported.\")\n",
    "\n",
    "        self.func = func\n",
    "            \n",
    "        if \"num_qubits\" in options:\n",
    "            self.num_qubits = options[\"num_qubits\"]\n",
    "\n",
    "        if \"input\" in options:\n",
    "            if \"min\" in options[\"input\"]:\n",
    "                self.input_min = options[\"input\"][\"min\"]\n",
    "            if \"max\" in options[\"input\"]:\n",
    "                self.input_max = options[\"input\"][\"max\"]\n",
    "\n",
    "        # Run classical function by providing full input range in 2**num_qubits steps\n",
    "        # and store outputs in a list (which is a graph of a function)\n",
    "        inputs = np.linspace(self.input_min, self.input_max, 2**self.num_qubits)        \n",
    "        outputs = [func(a) for a in inputs]\n",
    "        self.output_min = np.min(outputs)\n",
    "        self.output_max = np.max(outputs)\n",
    "\n",
    "        # Graph of a function is converted to statevector\n",
    "        output_vector = pd_to_sv(outputs, self.num_qubits)\n",
    "        \n",
    "        # Use generator to find circuit which prepares our statevector\n",
    "        job_id = QPS.generator.state_preparation(output_vector, settings = { \"instruction_set\": [\"u3\", \"cx\"], \"max_diff\": 0.001, \"pre_processing\": \"experimental5\" })\n",
    "        job = QPS.generator.get_job(job_id, wait=True)\n",
    "        job_status = job[\"status\"]\n",
    "        job_output = job[\"output\"]\n",
    "\n",
    "        if(job_status == \"error\"):\n",
    "            raise Exception(job_output[\"message\"])\n",
    "        else:\n",
    "            if \"circuits\" not in job_output or len(job_output[\"circuits\"]) == 0:\n",
    "                raise Exception(\"No solutions\")\n",
    "\n",
    "        self.qasm = job_output[\"circuits\"][0][\"qasm\"]\n",
    "        \n",
    "        return self.qasm\n",
    "\n",
    "\n",
    "    def run(self, x):\n",
    "        if(x < self.input_min or x > self.input_max):\n",
    "            raise Exception(\"Input is out of range [\" + str(self.input_min) + \"..\" + str(self.input_max) + \"]\")\n",
    "            \n",
    "        qc = QuantumCircuit().from_qasm_str(self.qasm)\n",
    "\n",
    "        if(self.use_statevector):\n",
    "            # Using statevector (this can run only on simulator)\n",
    "            backend = Aer.get_backend(\"statevector_simulator\")\n",
    "            job = execute(qc, backend=backend)\n",
    "            job_result = job.result()\n",
    "\n",
    "            output_vector = np.asarray(job_result.get_statevector(qc))\n",
    "        else:\n",
    "            # Using counts (this method can be used both with simulator and with QPU)\n",
    "            qc.measure_all()\n",
    "            backend = Aer.get_backend(\"qasm_simulator\")\n",
    "            job = execute(qc, backend=backend, shots=self.num_shots)\n",
    "            job_result = job.result()\n",
    "            counts = job_result.get_counts()\n",
    "\n",
    "            # Reconstruct statevector from counts (we don't use phase, so magnitude is enough)\n",
    "            output_pd = np.zeros(2**self.num_qubits)\n",
    "            for key, value in counts.items():\n",
    "                output_pd[int(key, 2)] = value\n",
    "\n",
    "            output_vector = pd_to_sv(output_pd, self.num_qubits)\n",
    "            \n",
    "        # Reconstruct (normalized) function graph from statevector\n",
    "        pd = sv_to_pd(output_vector, self.output_min, self.output_max)\n",
    "\n",
    "        # Interpolate: we have only 2**num_qubits points, but argument is real\n",
    "        f = interpolate.interp1d(np.linspace(self.input_min, self.input_max, len(output_vector)), pd)\n",
    "        result = f(x)\n",
    "        \n",
    "        return result\n",
    "\n",
    "    \n",
    "    def plot(self):\n",
    "        x = np.linspace(self.input_min, self.input_max, 100)\n",
    "        \n",
    "        c = [self.func(a) for a in x]\n",
    "        q = [self.run(a) for a in x]\n",
    "\n",
    "        \n",
    "        fig = plt.figure(figsize=(12, 12))\n",
    "        ax = fig.add_subplot(1, 1, 1)\n",
    "\n",
    "        # plot the functions\n",
    "        plt.plot(x, c, 'b', label=\"classical\")\n",
    "        plt.plot(x, q, 'r', label=\"quantum\")\n",
    "\n",
    "        plt.legend()\n",
    "\n",
    "        # show the plot\n",
    "        plt.show()\n",
    "\n",
    "\n",
    "    def draw(self):\n",
    "        svg = QPS.converter.convert(self.qasm, \"qasm\", \"svg-inline\")\n",
    "        display(SVG(svg))\n",
    "\n",
    "\n",
    "    def export(self, dest_format=\"qasm\"):\n",
    "        \n",
    "        if(dest_format == \"qasm\"):\n",
    "            return self.qasm\n",
    "\n",
    "        data = QPS.converter.convert(self.qasm, \"qasm\", dest_format)\n",
    "        return data\n",
    "\n"
   ]
  },
  {
   "cell_type": "markdown",
   "id": "53b4941f",
   "metadata": {},
   "source": [
    "## Example\n",
    "\n",
    "### Step 1: convert classical function to circuit"
   ]
  },
  {
   "cell_type": "code",
   "execution_count": 3,
   "id": "a91cbd4a",
   "metadata": {
    "scrolled": false
   },
   "outputs": [
    {
     "data": {
      "image/svg+xml": [
       "<svg xmlns=\"http://www.w3.org/2000/svg\" class=\"qc-circuit\" width=\"544\" height=\"256\" version=\"1.1\"><text class=\"qc-wire-init\" x=\"0\" y=\"54\" dominant-baseline=\"middle\" text-anchor=\"start\">|0⟩</text><line class=\"qc-wire\" x1=\"20\" x2=\"544\" y1=\"54\" y2=\"54\" stroke=\"black\" stroke-width=\"1\"/><text class=\"qc-wire-label\" x=\"20\" y=\"38\" dominant-baseline=\"hanging\" text-anchor=\"start\" font-size=\"75%\">q0</text><text class=\"qc-wire-init\" x=\"0\" y=\"128\" dominant-baseline=\"middle\" text-anchor=\"start\">|0⟩</text><line class=\"qc-wire\" x1=\"20\" x2=\"544\" y1=\"128\" y2=\"128\" stroke=\"black\" stroke-width=\"1\"/><text class=\"qc-wire-label\" x=\"20\" y=\"112\" dominant-baseline=\"hanging\" text-anchor=\"start\" font-size=\"75%\">q1</text><text class=\"qc-wire-init\" x=\"0\" y=\"202\" dominant-baseline=\"middle\" text-anchor=\"start\">|0⟩</text><line class=\"qc-wire\" x1=\"20\" x2=\"544\" y1=\"202\" y2=\"202\" stroke=\"black\" stroke-width=\"1\"/><text class=\"qc-wire-label\" x=\"20\" y=\"186\" dominant-baseline=\"hanging\" text-anchor=\"start\" font-size=\"75%\">q2</text><g class=\"qc-gate-group\" data-id=\"jzMVRTIFqP5P1w3kQK\" data-gate=\"u3\"><rect class=\"qc-gate-box\" x=\"68\" y=\"34\" width=\"40\" height=\"40\" stroke=\"black\" fill=\"white\" stroke-width=\"1\"/><text class=\"qc-gate-label\" x=\"88\" y=\"54\" dominant-baseline=\"middle\" text-anchor=\"middle\" fill=\"black\">U3</text><text class=\"qc-gate-params\" x=\"88\" y=\"80\" dominant-baseline=\"hanging\" text-anchor=\"middle\" font-size=\"75%\">2.74, -0.292, 1.779</text></g><g class=\"qc-gate-group\" data-id=\"q4hOUb9dfrIFZIhFEW\" data-gate=\"u3\"><rect class=\"qc-gate-box\" x=\"68\" y=\"108\" width=\"40\" height=\"40\" stroke=\"black\" fill=\"white\" stroke-width=\"1\"/><text class=\"qc-gate-label\" x=\"88\" y=\"128\" dominant-baseline=\"middle\" text-anchor=\"middle\" fill=\"black\">U3</text><text class=\"qc-gate-params\" x=\"88\" y=\"154\" dominant-baseline=\"hanging\" text-anchor=\"middle\" font-size=\"75%\">1.645, 4.254, -1.9</text></g><g class=\"qc-gate-group\" data-id=\"uRBtB8HXXZ8EwApIpL\" data-gate=\"u3\"><rect class=\"qc-gate-box\" x=\"68\" y=\"182\" width=\"40\" height=\"40\" stroke=\"black\" fill=\"white\" stroke-width=\"1\"/><text class=\"qc-gate-label\" x=\"88\" y=\"202\" dominant-baseline=\"middle\" text-anchor=\"middle\" fill=\"black\">U3</text><text class=\"qc-gate-params\" x=\"88\" y=\"228\" dominant-baseline=\"hanging\" text-anchor=\"middle\" font-size=\"75%\">0.683, 2.672, -1.396</text></g><g class=\"qc-gate-group\" data-id=\"t2OQd7obXs68V9JAuf\" data-gate=\"cx\"><line class=\"qc-gate-link\" x1=\"156\" x2=\"156\" y1=\"54\" y2=\"202\" stroke=\"black\" stroke-width=\"1\"/><circle class=\"qc-gate-dot\" cx=\"156\" cy=\"54\" r=\"5\" stroke=\"black\" fill=\"black\" stroke-width=\"1\"/><ellipse class=\"qc-gate-not\" cx=\"156\" cy=\"202\" rx=\"16\" ry=\"16\" stroke=\"black\" fill=\"white\" stroke-width=\"1\"/><line class=\"qc-gate-not-line\" x1=\"156\" x2=\"156\" y1=\"186\" y2=\"218\" stroke=\"black\" stroke-width=\"1\"/><line class=\"qc-gate-not-line\" x1=\"140\" x2=\"172\" y1=\"202\" y2=\"202\" stroke=\"black\" stroke-width=\"1\"/><text class=\"qc-gate-params\" x=\"156\" y=\"228\" dominant-baseline=\"hanging\" text-anchor=\"middle\" font-size=\"75%\"/></g><g class=\"qc-gate-group\" data-id=\"l8qWckF12NNT98A4Se\" data-gate=\"u3\"><rect class=\"qc-gate-box\" x=\"204\" y=\"34\" width=\"40\" height=\"40\" stroke=\"black\" fill=\"white\" stroke-width=\"1\"/><text class=\"qc-gate-label\" x=\"224\" y=\"54\" dominant-baseline=\"middle\" text-anchor=\"middle\" fill=\"black\">U3</text><text class=\"qc-gate-params\" x=\"224\" y=\"80\" dominant-baseline=\"hanging\" text-anchor=\"middle\" font-size=\"75%\">-1.084, -2.309, 1.181</text></g><g class=\"qc-gate-group\" data-id=\"nHSbTZuIByZSxu1xmR\" data-gate=\"u3\"><rect class=\"qc-gate-box\" x=\"204\" y=\"182\" width=\"40\" height=\"40\" stroke=\"black\" fill=\"white\" stroke-width=\"1\"/><text class=\"qc-gate-label\" x=\"224\" y=\"202\" dominant-baseline=\"middle\" text-anchor=\"middle\" fill=\"black\">U3</text><text class=\"qc-gate-params\" x=\"224\" y=\"228\" dominant-baseline=\"hanging\" text-anchor=\"middle\" font-size=\"75%\">-2.196, -0.608, 2.945</text></g><g class=\"qc-gate-group\" data-id=\"e3kFb6frurSfgghX7N\" data-gate=\"cx\"><line class=\"qc-gate-link\" x1=\"292\" x2=\"292\" y1=\"128\" y2=\"202\" stroke=\"black\" stroke-width=\"1\"/><circle class=\"qc-gate-dot\" cx=\"292\" cy=\"202\" r=\"5\" stroke=\"black\" fill=\"black\" stroke-width=\"1\"/><text class=\"qc-gate-params\" x=\"292\" y=\"228\" dominant-baseline=\"hanging\" text-anchor=\"middle\" font-size=\"75%\"/><ellipse class=\"qc-gate-not\" cx=\"292\" cy=\"128\" rx=\"16\" ry=\"16\" stroke=\"black\" fill=\"white\" stroke-width=\"1\"/><line class=\"qc-gate-not-line\" x1=\"292\" x2=\"292\" y1=\"112\" y2=\"144\" stroke=\"black\" stroke-width=\"1\"/><line class=\"qc-gate-not-line\" x1=\"276\" x2=\"308\" y1=\"128\" y2=\"128\" stroke=\"black\" stroke-width=\"1\"/></g><g class=\"qc-gate-group\" data-id=\"CkXUJCdzhTHl4nCE4l\" data-gate=\"u3\"><rect class=\"qc-gate-box\" x=\"340\" y=\"108\" width=\"40\" height=\"40\" stroke=\"black\" fill=\"white\" stroke-width=\"1\"/><text class=\"qc-gate-label\" x=\"360\" y=\"128\" dominant-baseline=\"middle\" text-anchor=\"middle\" fill=\"black\">U3</text><text class=\"qc-gate-params\" x=\"360\" y=\"154\" dominant-baseline=\"hanging\" text-anchor=\"middle\" font-size=\"75%\">-1.501, 0.255, -4.322</text></g><g class=\"qc-gate-group\" data-id=\"mUZBIUBWJy8FnQ4MQt\" data-gate=\"u3\"><rect class=\"qc-gate-box\" x=\"340\" y=\"182\" width=\"40\" height=\"40\" stroke=\"black\" fill=\"white\" stroke-width=\"1\"/><text class=\"qc-gate-label\" x=\"360\" y=\"202\" dominant-baseline=\"middle\" text-anchor=\"middle\" fill=\"black\">U3</text><text class=\"qc-gate-params\" x=\"360\" y=\"228\" dominant-baseline=\"hanging\" text-anchor=\"middle\" font-size=\"75%\">2.094, 0.065, 0.504</text></g><g class=\"qc-gate-group\" data-id=\"qkUJk5MKlTxHvMssRk\" data-gate=\"cx\"><line class=\"qc-gate-link\" x1=\"428\" x2=\"428\" y1=\"54\" y2=\"128\" stroke=\"black\" stroke-width=\"1\"/><circle class=\"qc-gate-dot\" cx=\"428\" cy=\"128\" r=\"5\" stroke=\"black\" fill=\"black\" stroke-width=\"1\"/><text class=\"qc-gate-params\" x=\"428\" y=\"154\" dominant-baseline=\"hanging\" text-anchor=\"middle\" font-size=\"75%\"/><ellipse class=\"qc-gate-not\" cx=\"428\" cy=\"54\" rx=\"16\" ry=\"16\" stroke=\"black\" fill=\"white\" stroke-width=\"1\"/><line class=\"qc-gate-not-line\" x1=\"428\" x2=\"428\" y1=\"38\" y2=\"70\" stroke=\"black\" stroke-width=\"1\"/><line class=\"qc-gate-not-line\" x1=\"412\" x2=\"444\" y1=\"54\" y2=\"54\" stroke=\"black\" stroke-width=\"1\"/></g><g class=\"qc-gate-group\" data-id=\"CqRV7Ahe3RMq5g0SQs\" data-gate=\"u3\"><rect class=\"qc-gate-box\" x=\"476\" y=\"34\" width=\"40\" height=\"40\" stroke=\"black\" fill=\"white\" stroke-width=\"1\"/><text class=\"qc-gate-label\" x=\"496\" y=\"54\" dominant-baseline=\"middle\" text-anchor=\"middle\" fill=\"black\">U3</text><text class=\"qc-gate-params\" x=\"496\" y=\"80\" dominant-baseline=\"hanging\" text-anchor=\"middle\" font-size=\"75%\">-2.153, -0.492, -1.161</text></g><g class=\"qc-gate-group\" data-id=\"xApG8TQ7BJuAj2qPtH\" data-gate=\"u3\"><rect class=\"qc-gate-box\" x=\"476\" y=\"108\" width=\"40\" height=\"40\" stroke=\"black\" fill=\"white\" stroke-width=\"1\"/><text class=\"qc-gate-label\" x=\"496\" y=\"128\" dominant-baseline=\"middle\" text-anchor=\"middle\" fill=\"black\">U3</text><text class=\"qc-gate-params\" x=\"496\" y=\"154\" dominant-baseline=\"hanging\" text-anchor=\"middle\" font-size=\"75%\">-1.978, -3.247, 2.058</text></g></svg>"
      ],
      "text/plain": [
       "<IPython.core.display.SVG object>"
      ]
     },
     "metadata": {},
     "output_type": "display_data"
    }
   ],
   "source": [
    "def classical_function(x):\n",
    "    return x**3\n",
    "\n",
    "quantum_function = QuantumFunction()\n",
    "\n",
    "quantum_function.from_classical(classical_function, options={ \"input\": { \"min\": -np.pi, \"max\": np.pi }, \"num_qubits\": 3 })\n",
    "\n",
    "quantum_function.draw()\n",
    "\n"
   ]
  },
  {
   "cell_type": "markdown",
   "id": "2e2d04da",
   "metadata": {},
   "source": [
    "### Step 2: Now we have circuit\n",
    "\n",
    "Let's plot both original classical and quantum function graph:"
   ]
  },
  {
   "cell_type": "code",
   "execution_count": 4,
   "id": "3171ffc8",
   "metadata": {},
   "outputs": [
    {
     "data": {
      "image/png": "[encoded data removed]",
      "text/plain": [
       "<Figure size 864x864 with 1 Axes>"
      ]
     },
     "metadata": {
      "needs_background": "light"
     },
     "output_type": "display_data"
    }
   ],
   "source": [
    "\n",
    "quantum_function.use_statevector = False\n",
    "quantum_function.plot()\n"
   ]
  },
  {
   "cell_type": "markdown",
   "id": "66e3c328",
   "metadata": {},
   "source": [
    "### Step 3: run quantum function and see result\n",
    "\n",
    "Result is not exact but is close (more qubits and more shots = better accuracy):"
   ]
  },
  {
   "cell_type": "code",
   "execution_count": 5,
   "id": "664fd205",
   "metadata": {},
   "outputs": [
    {
     "name": "stdout",
     "output_type": "stream",
     "text": [
      "27.792513410353617\n"
     ]
    }
   ],
   "source": [
    "y = quantum_function.run(3)\n",
    "\n",
    "print(y)"
   ]
  },
  {
   "cell_type": "markdown",
   "id": "bfeb6b47",
   "metadata": {},
   "source": [
    "Voilà!"
   ]
  },
  {
   "cell_type": "code",
   "execution_count": null,
   "id": "e5f38b2b",
   "metadata": {},
   "outputs": [],
   "source": []
  }
 ],
 "metadata": {
  "kernelspec": {
   "display_name": "Python 3 (ipykernel)",
   "language": "python",
   "name": "python3"
  },
  "language_info": {
   "codemirror_mode": {
    "name": "ipython",
    "version": 3
   },
   "file_extension": ".py",
   "mimetype": "text/x-python",
   "name": "python",
   "nbconvert_exporter": "python",
   "pygments_lexer": "ipython3",
   "version": "3.8.9"
  }
 },
 "nbformat": 4,
 "nbformat_minor": 5
}
